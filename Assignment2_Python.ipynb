{
 "cells": [
  {
   "cell_type": "code",
   "execution_count": 12,
   "metadata": {},
   "outputs": [
    {
     "name": "stdout",
     "output_type": "stream",
     "text": [
      "[1, 2] is True\n",
      "[] is False\n"
     ]
    }
   ],
   "source": [
    "#Question 1:\n",
    " #There are 2 types of boolean value.\n",
    "    #1) True\n",
    "    #2) |False\n",
    " #syntax\n",
    "lis = [1,2]\n",
    "print(lis,'is',bool(lis))\n",
    "\n",
    "lis = []\n",
    "print(lis,'is',bool(lis))"
   ]
  },
  {
   "cell_type": "code",
   "execution_count": null,
   "metadata": {},
   "outputs": [],
   "source": [
    "#question 2:\n",
    "AND - Narrow search results.\n",
    "OR- Expand search results.\n",
    "NOT - NOT limits your search by excluding defined keywords and/or phrases from your results."
   ]
  },
  {
   "cell_type": "code",
   "execution_count": 13,
   "metadata": {},
   "outputs": [
    {
     "name": "stdout",
     "output_type": "stream",
     "text": [
      "True\n",
      "True\n",
      "True\n"
     ]
    }
   ],
   "source": [
    "#question 3:\n",
    "print((9 > 7) and (2 < 4))  # Both original expressions are True\n",
    "print((8 == 8) or (6 != 6)) # One original expression is True\n",
    "print(not(3 <= 1))          # The original expression is False"
   ]
  },
  {
   "cell_type": "code",
   "execution_count": 20,
   "metadata": {},
   "outputs": [
    {
     "data": {
      "text/plain": [
       "True"
      ]
     },
     "execution_count": 20,
     "metadata": {},
     "output_type": "execute_result"
    }
   ],
   "source": [
    "#question 4:\n",
    "\n",
    "(5 > 4) and (3 == 5) #ans : False\n",
    "not (5 > 4) #ans: False\n",
    "(5 > 4) or (3==5) #ans: True\n",
    "not ((5 >4) or (3==5) ) #ans: False\n",
    "(True and True) and (True == False) #ans : False\n",
    "(not False) or (not True) #ans: True\n"
   ]
  },
  {
   "cell_type": "code",
   "execution_count": 23,
   "metadata": {},
   "outputs": [
    {
     "data": {
      "text/plain": [
       "True"
      ]
     },
     "execution_count": 23,
     "metadata": {},
     "output_type": "execute_result"
    }
   ],
   "source": [
    "#question 5:\n",
    "== -> Equal\n",
    "!= ->Not equal\n",
    "> ->Greater than\n",
    "< ->Less than\n",
    ">= ->Greater than or equal to\n",
    "<= ->Less than or equal to\n"
   ]
  },
  {
   "cell_type": "code",
   "execution_count": null,
   "metadata": {},
   "outputs": [],
   "source": [
    "#question 6:\n",
    "= is assignment operator and == is equal to. = we use to declare variable. == is used for comaprison. \n",
    "a =5\n",
    "a ==5\n"
   ]
  },
  {
   "cell_type": "code",
   "execution_count": null,
   "metadata": {},
   "outputs": [],
   "source": [
    "#question 7:\n",
    "7. Identify the three blocks in this code:\n",
    "spam = 0        > #Block 1\n",
    "if spam == 10:\n",
    "print('eggs') \n",
    "\n",
    "if spam  5:     -> #Block 2\n",
    "print('bacon') \n",
    "\n",
    "else:           -> #Block 3\n",
    "print('ham')\n",
    "print('spam')\n",
    "print('spam')"
   ]
  },
  {
   "cell_type": "code",
   "execution_count": 36,
   "metadata": {},
   "outputs": [
    {
     "name": "stdout",
     "output_type": "stream",
     "text": [
      "Greetings\n"
     ]
    }
   ],
   "source": [
    "#question 8:\n",
    "spam = 3\n",
    "if spam ==1:\n",
    "    print('Hello')\n",
    "\n",
    "elif  spam ==2:\n",
    "     print('Howdy')\n",
    "\n",
    "else :\n",
    "     print('Greetings')"
   ]
  },
  {
   "cell_type": "code",
   "execution_count": null,
   "metadata": {},
   "outputs": [],
   "source": [
    "#question 9:\n",
    "CTRL + C"
   ]
  },
  {
   "cell_type": "code",
   "execution_count": null,
   "metadata": {},
   "outputs": [],
   "source": [
    "#question 10:\n",
    "Break statement exists from while loop.when the loopp ends its execute next line immediately\n",
    "Continue  is used to skip code within a loop for certain iterations of the loop. After the code is skipped, the loop continues where it left off. \n",
    "\n"
   ]
  },
  {
   "cell_type": "code",
   "execution_count": 47,
   "metadata": {},
   "outputs": [
    {
     "name": "stdout",
     "output_type": "stream",
     "text": [
      "\n"
     ]
    }
   ],
   "source": [
    "#question 11:\n",
    "When user call range(10) with one argument, user will get a series of numbers that starts at 0 .\n",
    "When user call range(0,10) with two arguments, user get to decide not only where the series of numbers stops \n",
    "When user call range(0,10,1) with three arguments, user can choose not only where the series of numbers will start and stop but also how big the difference will be between one number and the next.\n"
   ]
  },
  {
   "cell_type": "code",
   "execution_count": 49,
   "metadata": {},
   "outputs": [
    {
     "name": "stdout",
     "output_type": "stream",
     "text": [
      "1\n",
      "2\n",
      "3\n",
      "4\n",
      "5\n",
      "6\n",
      "7\n",
      "8\n",
      "9\n",
      "10\n"
     ]
    }
   ],
   "source": [
    "#question 12:\n",
    "#A\n",
    "for i in range(1, 11):\n",
    "    print(i)"
   ]
  },
  {
   "cell_type": "code",
   "execution_count": 50,
   "metadata": {},
   "outputs": [
    {
     "name": "stdout",
     "output_type": "stream",
     "text": [
      "1\n",
      "2\n",
      "3\n",
      "4\n",
      "5\n",
      "6\n",
      "7\n",
      "8\n",
      "9\n",
      "10\n"
     ]
    }
   ],
   "source": [
    "#question 12:\n",
    "#B\n",
    "i = 1\n",
    "while(i<=10):\n",
    "    print(i)\n",
    "    i += 1"
   ]
  },
  {
   "cell_type": "code",
   "execution_count": null,
   "metadata": {},
   "outputs": [],
   "source": [
    "#question 13:\n"
   ]
  }
 ],
 "metadata": {
  "kernelspec": {
   "display_name": "Python 3",
   "language": "python",
   "name": "python3"
  },
  "language_info": {
   "codemirror_mode": {
    "name": "ipython",
    "version": 3
   },
   "file_extension": ".py",
   "mimetype": "text/x-python",
   "name": "python",
   "nbconvert_exporter": "python",
   "pygments_lexer": "ipython3",
   "version": "3.8.5"
  }
 },
 "nbformat": 4,
 "nbformat_minor": 4
}
